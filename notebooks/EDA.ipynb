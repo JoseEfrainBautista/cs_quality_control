{
 "cells": [
  {
   "cell_type": "code",
   "execution_count": 51,
   "id": "e14cb377",
   "metadata": {},
   "outputs": [],
   "source": [
    "'''Importamos librerías para el manejo de datos'''\n",
    "import pandas as pd\n"
   ]
  },
  {
   "cell_type": "code",
   "execution_count": 52,
   "id": "ec81b80a",
   "metadata": {},
   "outputs": [],
   "source": [
    "df = pd.read_excel('../dataset/BASE DE DATOS JULIO.xlsx', header=1)"
   ]
  },
  {
   "cell_type": "code",
   "execution_count": 53,
   "id": "56c071a8",
   "metadata": {},
   "outputs": [
    {
     "name": "stdout",
     "output_type": "stream",
     "text": [
      "<class 'pandas.core.frame.DataFrame'>\n",
      "RangeIndex: 18920 entries, 0 to 18919\n",
      "Data columns (total 53 columns):\n",
      " #   Column        Non-Null Count  Dtype         \n",
      "---  ------        --------------  -----         \n",
      " 0   RED           18920 non-null  object        \n",
      " 1   MICRORED      18920 non-null  object        \n",
      " 2   NUCLEO        18920 non-null  object        \n",
      " 3   EESS          18920 non-null  object        \n",
      " 4   COD_UNICO     18920 non-null  int64         \n",
      " 5   IDCITA        18920 non-null  int64         \n",
      " 6   LOTE          18920 non-null  object        \n",
      " 7   PAGINA        18920 non-null  int64         \n",
      " 8   REGISTRO      18920 non-null  int64         \n",
      " 9   COND_EESS     18920 non-null  object        \n",
      " 10  COND_SERV     18920 non-null  object        \n",
      " 11  FECHA         18920 non-null  datetime64[ns]\n",
      " 12  TIPODOC       18920 non-null  object        \n",
      " 13  NUMDOC        18920 non-null  object        \n",
      " 14  PACIENTE      18776 non-null  object        \n",
      " 15  FECHANAC      18920 non-null  object        \n",
      " 16  HCL           18776 non-null  float64       \n",
      " 17  FF            97 non-null     object        \n",
      " 18  ETNIA         18776 non-null  object        \n",
      " 19  SEGURO        18776 non-null  object        \n",
      " 20  SEXO          18920 non-null  object        \n",
      " 21  EDAD          18920 non-null  int64         \n",
      " 22  TIPO_EDAD     18920 non-null  object        \n",
      " 23  EDAD_Y        18920 non-null  int64         \n",
      " 24  EDAD_M        18920 non-null  int64         \n",
      " 25  EDAD_D        18920 non-null  int64         \n",
      " 26  CODIGO        18920 non-null  object        \n",
      " 27  TIPODX        18920 non-null  object        \n",
      " 28  LABCONF       9805 non-null   object        \n",
      " 29  ITEM          18126 non-null  object        \n",
      " 30  CLASE         18126 non-null  object        \n",
      " 31  CORRELA_ITEM  18920 non-null  int64         \n",
      " 32  CORRELA_LAB   18920 non-null  int64         \n",
      " 33  PESO          18920 non-null  float64       \n",
      " 34  TALLA         18920 non-null  float64       \n",
      " 35  HEMOGLOBINA   18920 non-null  float64       \n",
      " 36  CCPP          3533 non-null   object        \n",
      " 37  PAB           18920 non-null  int64         \n",
      " 38  PC            18920 non-null  float64       \n",
      " 39  PREGESTA      18920 non-null  float64       \n",
      " 40  OTRA_COND     18920 non-null  object        \n",
      " 41  FUR           18920 non-null  object        \n",
      " 42  ID_UPS        18920 non-null  int64         \n",
      " 43  SERVICIO      18920 non-null  object        \n",
      " 44  RHTIPODOC     18920 non-null  object        \n",
      " 45  RHNUMDOC      18920 non-null  int64         \n",
      " 46  PERSONAL      18920 non-null  object        \n",
      " 47  PROFESION     18920 non-null  object        \n",
      " 48  REGNUMDOC     18920 non-null  int64         \n",
      " 49  DIGITADOR     18920 non-null  object        \n",
      " 50  FECH_REG      18920 non-null  datetime64[ns]\n",
      " 51  FECH_MOD      18920 non-null  object        \n",
      " 52  CANTIDAD      18920 non-null  int64         \n",
      "dtypes: datetime64[ns](2), float64(6), int64(15), object(30)\n",
      "memory usage: 7.7+ MB\n"
     ]
    }
   ],
   "source": [
    "df.info()"
   ]
  },
  {
   "cell_type": "code",
   "execution_count": 54,
   "id": "44c1cd09",
   "metadata": {},
   "outputs": [
    {
     "name": "stdout",
     "output_type": "stream",
     "text": [
      "<class 'pandas.core.frame.DataFrame'>\n",
      "RangeIndex: 18920 entries, 0 to 18919\n",
      "Data columns (total 53 columns):\n",
      " #   Column        Non-Null Count  Dtype         \n",
      "---  ------        --------------  -----         \n",
      " 0   red           18920 non-null  object        \n",
      " 1   microred      18920 non-null  object        \n",
      " 2   nucleo        18920 non-null  object        \n",
      " 3   eess          18920 non-null  object        \n",
      " 4   cod_unico     18920 non-null  int64         \n",
      " 5   idcita        18920 non-null  int64         \n",
      " 6   lote          18920 non-null  object        \n",
      " 7   pagina        18920 non-null  int64         \n",
      " 8   registro      18920 non-null  int64         \n",
      " 9   cond_eess     18920 non-null  object        \n",
      " 10  cond_serv     18920 non-null  object        \n",
      " 11  fecha         18920 non-null  datetime64[ns]\n",
      " 12  tipodoc       18920 non-null  object        \n",
      " 13  numdoc        18920 non-null  object        \n",
      " 14  paciente      18776 non-null  object        \n",
      " 15  fechanac      18920 non-null  object        \n",
      " 16  hcl           18776 non-null  float64       \n",
      " 17  ff            97 non-null     object        \n",
      " 18  etnia         18776 non-null  object        \n",
      " 19  seguro        18776 non-null  object        \n",
      " 20  sexo          18920 non-null  object        \n",
      " 21  edad          18920 non-null  int64         \n",
      " 22  tipo_edad     18920 non-null  object        \n",
      " 23  edad_y        18920 non-null  int64         \n",
      " 24  edad_m        18920 non-null  int64         \n",
      " 25  edad_d        18920 non-null  int64         \n",
      " 26  codigo        18920 non-null  object        \n",
      " 27  tipodx        18920 non-null  object        \n",
      " 28  labconf       9805 non-null   object        \n",
      " 29  item          18126 non-null  object        \n",
      " 30  clase         18126 non-null  object        \n",
      " 31  correla_item  18920 non-null  int64         \n",
      " 32  correla_lab   18920 non-null  int64         \n",
      " 33  peso          18920 non-null  float64       \n",
      " 34  talla         18920 non-null  float64       \n",
      " 35  hemoglobina   18920 non-null  float64       \n",
      " 36  ccpp          3533 non-null   object        \n",
      " 37  pab           18920 non-null  int64         \n",
      " 38  pc            18920 non-null  float64       \n",
      " 39  pregesta      18920 non-null  float64       \n",
      " 40  otra_cond     18920 non-null  object        \n",
      " 41  fur           18920 non-null  object        \n",
      " 42  id_ups        18920 non-null  int64         \n",
      " 43  servicio      18920 non-null  object        \n",
      " 44  rhtipodoc     18920 non-null  object        \n",
      " 45  rhnumdoc      18920 non-null  int64         \n",
      " 46  personal      18920 non-null  object        \n",
      " 47  profesion     18920 non-null  object        \n",
      " 48  regnumdoc     18920 non-null  int64         \n",
      " 49  digitador     18920 non-null  object        \n",
      " 50  fech_reg      18920 non-null  datetime64[ns]\n",
      " 51  fech_mod      18920 non-null  object        \n",
      " 52  cantidad      18920 non-null  int64         \n",
      "dtypes: datetime64[ns](2), float64(6), int64(15), object(30)\n",
      "memory usage: 7.7+ MB\n"
     ]
    }
   ],
   "source": [
    "new_columns = [col.strip().lower().replace(' ', '_') for col in df.columns]\n",
    "df.columns = new_columns\n",
    "\n",
    "df.info()"
   ]
  },
  {
   "cell_type": "code",
   "execution_count": 55,
   "id": "494954f9",
   "metadata": {},
   "outputs": [
    {
     "data": {
      "application/vnd.microsoft.datawrangler.viewer.v0+json": {
       "columns": [
        {
         "name": "index",
         "rawType": "int64",
         "type": "integer"
        },
        {
         "name": "red",
         "rawType": "object",
         "type": "string"
        },
        {
         "name": "microred",
         "rawType": "object",
         "type": "string"
        },
        {
         "name": "nucleo",
         "rawType": "object",
         "type": "string"
        },
        {
         "name": "eess",
         "rawType": "object",
         "type": "string"
        },
        {
         "name": "cod_unico",
         "rawType": "int64",
         "type": "integer"
        },
        {
         "name": "idcita",
         "rawType": "int64",
         "type": "integer"
        },
        {
         "name": "lote",
         "rawType": "object",
         "type": "string"
        },
        {
         "name": "pagina",
         "rawType": "int64",
         "type": "integer"
        },
        {
         "name": "registro",
         "rawType": "int64",
         "type": "integer"
        },
        {
         "name": "cond_eess",
         "rawType": "object",
         "type": "string"
        },
        {
         "name": "cond_serv",
         "rawType": "object",
         "type": "string"
        },
        {
         "name": "fecha",
         "rawType": "datetime64[ns]",
         "type": "datetime"
        },
        {
         "name": "tipodoc",
         "rawType": "object",
         "type": "string"
        },
        {
         "name": "numdoc",
         "rawType": "object",
         "type": "unknown"
        },
        {
         "name": "paciente",
         "rawType": "object",
         "type": "string"
        },
        {
         "name": "fechanac",
         "rawType": "object",
         "type": "unknown"
        },
        {
         "name": "hcl",
         "rawType": "float64",
         "type": "float"
        },
        {
         "name": "ff",
         "rawType": "object",
         "type": "unknown"
        },
        {
         "name": "etnia",
         "rawType": "object",
         "type": "string"
        },
        {
         "name": "seguro",
         "rawType": "object",
         "type": "string"
        },
        {
         "name": "sexo",
         "rawType": "object",
         "type": "string"
        },
        {
         "name": "edad",
         "rawType": "int64",
         "type": "integer"
        },
        {
         "name": "tipo_edad",
         "rawType": "object",
         "type": "string"
        },
        {
         "name": "edad_y",
         "rawType": "int64",
         "type": "integer"
        },
        {
         "name": "edad_m",
         "rawType": "int64",
         "type": "integer"
        },
        {
         "name": "edad_d",
         "rawType": "int64",
         "type": "integer"
        },
        {
         "name": "codigo",
         "rawType": "object",
         "type": "unknown"
        },
        {
         "name": "tipodx",
         "rawType": "object",
         "type": "string"
        },
        {
         "name": "labconf",
         "rawType": "object",
         "type": "unknown"
        },
        {
         "name": "item",
         "rawType": "object",
         "type": "unknown"
        },
        {
         "name": "clase",
         "rawType": "object",
         "type": "unknown"
        },
        {
         "name": "correla_item",
         "rawType": "int64",
         "type": "integer"
        },
        {
         "name": "correla_lab",
         "rawType": "int64",
         "type": "integer"
        },
        {
         "name": "peso",
         "rawType": "float64",
         "type": "float"
        },
        {
         "name": "talla",
         "rawType": "float64",
         "type": "float"
        },
        {
         "name": "hemoglobina",
         "rawType": "float64",
         "type": "float"
        },
        {
         "name": "ccpp",
         "rawType": "object",
         "type": "unknown"
        },
        {
         "name": "pab",
         "rawType": "int64",
         "type": "integer"
        },
        {
         "name": "pc",
         "rawType": "float64",
         "type": "float"
        },
        {
         "name": "pregesta",
         "rawType": "float64",
         "type": "float"
        },
        {
         "name": "otra_cond",
         "rawType": "object",
         "type": "string"
        },
        {
         "name": "fur",
         "rawType": "object",
         "type": "string"
        },
        {
         "name": "id_ups",
         "rawType": "int64",
         "type": "integer"
        },
        {
         "name": "servicio",
         "rawType": "object",
         "type": "string"
        },
        {
         "name": "rhtipodoc",
         "rawType": "object",
         "type": "string"
        },
        {
         "name": "rhnumdoc",
         "rawType": "int64",
         "type": "integer"
        },
        {
         "name": "personal",
         "rawType": "object",
         "type": "string"
        },
        {
         "name": "profesion",
         "rawType": "object",
         "type": "string"
        },
        {
         "name": "regnumdoc",
         "rawType": "int64",
         "type": "integer"
        },
        {
         "name": "digitador",
         "rawType": "object",
         "type": "string"
        },
        {
         "name": "fech_reg",
         "rawType": "datetime64[ns]",
         "type": "datetime"
        },
        {
         "name": "fech_mod",
         "rawType": "object",
         "type": "string"
        },
        {
         "name": "cantidad",
         "rawType": "int64",
         "type": "integer"
        }
       ],
       "ref": "57391610-c4f3-4c45-8065-a0131bbef108",
       "rows": [
        [
         "0",
         "CHOTA",
         "CHALAMARCA",
         "NUCLEO CHALAMARCA",
         "CHALAMARCA",
         "4718",
         "1241311300",
         "G11",
         "1",
         "1",
         "R",
         "R",
         "2025-07-01 00:00:00",
         "DNI",
         "27418667",
         "NARCISO CHUQUIMANGO CORTEZ",
         "1970-05-23 00:00:00",
         "27418667.0",
         null,
         "MESTIZO",
         "S.I.S",
         "M",
         "55",
         "A",
         "55",
         "1",
         "8",
         "99801",
         "D",
         "1",
         null,
         null,
         "1",
         "1",
         "0.0",
         "0.0",
         "0.0",
         null,
         "0",
         "0.0",
         "0.0",
         " ",
         "-  -     :  :",
         "302303",
         "MEDICINA GENERAL",
         "DNI",
         "73755296",
         "KATERINE ALEJANDRA SANCHEZ BRIONES",
         "MEDICO GENERAL",
         "45771417",
         "DAVID CHUQUIMANGO CERCADO",
         "2025-07-02 12:21:12",
         "-  -     :  :",
         "1"
        ],
        [
         "1",
         "CHOTA",
         "CHALAMARCA",
         "NUCLEO CHALAMARCA",
         "CHALAMARCA",
         "4718",
         "1241311300",
         "G11",
         "1",
         "1",
         "R",
         "R",
         "2025-07-01 00:00:00",
         "DNI",
         "27418667",
         "NARCISO CHUQUIMANGO CORTEZ",
         "1970-05-23 00:00:00",
         "27418667.0",
         null,
         "MESTIZO",
         "S.I.S",
         "M",
         "55",
         "A",
         "55",
         "1",
         "8",
         "Z019",
         "D",
         "DNT",
         "EXAMEN ESPECIAL NO ESPECIFICADO",
         "CX",
         "2",
         "1",
         "0.0",
         "0.0",
         "0.0",
         null,
         "0",
         "0.0",
         "0.0",
         " ",
         "-  -     :  :",
         "302303",
         "MEDICINA GENERAL",
         "DNI",
         "73755296",
         "KATERINE ALEJANDRA SANCHEZ BRIONES",
         "MEDICO GENERAL",
         "45771417",
         "DAVID CHUQUIMANGO CERCADO",
         "2025-07-02 12:21:12",
         "-  -     :  :",
         "1"
        ],
        [
         "2",
         "CHOTA",
         "CHALAMARCA",
         "NUCLEO CHALAMARCA",
         "CHALAMARCA",
         "4718",
         "1241311300",
         "G11",
         "1",
         "1",
         "R",
         "R",
         "2025-07-01 00:00:00",
         "DNI",
         "27418667",
         "NARCISO CHUQUIMANGO CORTEZ",
         "1970-05-23 00:00:00",
         "27418667.0",
         null,
         "MESTIZO",
         "S.I.S",
         "M",
         "55",
         "A",
         "55",
         "1",
         "8",
         "E6690",
         "D",
         "IMC",
         "SOBREPESO",
         "CX",
         "3",
         "1",
         "0.0",
         "0.0",
         "0.0",
         null,
         "0",
         "0.0",
         "0.0",
         " ",
         "-  -     :  :",
         "302303",
         "MEDICINA GENERAL",
         "DNI",
         "73755296",
         "KATERINE ALEJANDRA SANCHEZ BRIONES",
         "MEDICO GENERAL",
         "45771417",
         "DAVID CHUQUIMANGO CERCADO",
         "2025-07-02 12:21:12",
         "-  -     :  :",
         "1"
        ],
        [
         "3",
         "CHOTA",
         "CHALAMARCA",
         "NUCLEO CHALAMARCA",
         "CHALAMARCA",
         "4718",
         "1241311300",
         "G11",
         "1",
         "1",
         "R",
         "R",
         "2025-07-01 00:00:00",
         "DNI",
         "27418667",
         "NARCISO CHUQUIMANGO CORTEZ",
         "1970-05-23 00:00:00",
         "27418667.0",
         null,
         "MESTIZO",
         "S.I.S",
         "M",
         "55",
         "A",
         "55",
         "1",
         "8",
         "99209.02",
         "D",
         null,
         "CONTROL Y EVALUACIËN NUTRICIONAL (IMC) REGISTRO IN",
         "CP",
         "4",
         "1",
         "0.0",
         "0.0",
         "0.0",
         null,
         "0",
         "0.0",
         "0.0",
         " ",
         "-  -     :  :",
         "302303",
         "MEDICINA GENERAL",
         "DNI",
         "73755296",
         "KATERINE ALEJANDRA SANCHEZ BRIONES",
         "MEDICO GENERAL",
         "45771417",
         "DAVID CHUQUIMANGO CERCADO",
         "2025-07-02 12:21:12",
         "-  -     :  :",
         "1"
        ],
        [
         "4",
         "CHOTA",
         "CHALAMARCA",
         "NUCLEO CHALAMARCA",
         "CHALAMARCA",
         "4718",
         "1241311300",
         "G11",
         "1",
         "1",
         "R",
         "R",
         "2025-07-01 00:00:00",
         "DNI",
         "27418667",
         "NARCISO CHUQUIMANGO CORTEZ",
         "1970-05-23 00:00:00",
         "27418667.0",
         null,
         "MESTIZO",
         "S.I.S",
         "M",
         "55",
         "A",
         "55",
         "1",
         "8",
         "99209.03",
         "D",
         "RSA",
         "CONTROL Y EVALUACIËN NUTRICIONAL (EVALUACIËN DEL P",
         "CP",
         "5",
         "1",
         "0.0",
         "0.0",
         "0.0",
         null,
         "0",
         "0.0",
         "0.0",
         " ",
         "-  -     :  :",
         "302303",
         "MEDICINA GENERAL",
         "DNI",
         "73755296",
         "KATERINE ALEJANDRA SANCHEZ BRIONES",
         "MEDICO GENERAL",
         "45771417",
         "DAVID CHUQUIMANGO CERCADO",
         "2025-07-02 12:21:12",
         "-  -     :  :",
         "1"
        ]
       ],
       "shape": {
        "columns": 53,
        "rows": 5
       }
      },
      "text/html": [
       "<div>\n",
       "<style scoped>\n",
       "    .dataframe tbody tr th:only-of-type {\n",
       "        vertical-align: middle;\n",
       "    }\n",
       "\n",
       "    .dataframe tbody tr th {\n",
       "        vertical-align: top;\n",
       "    }\n",
       "\n",
       "    .dataframe thead th {\n",
       "        text-align: right;\n",
       "    }\n",
       "</style>\n",
       "<table border=\"1\" class=\"dataframe\">\n",
       "  <thead>\n",
       "    <tr style=\"text-align: right;\">\n",
       "      <th></th>\n",
       "      <th>red</th>\n",
       "      <th>microred</th>\n",
       "      <th>nucleo</th>\n",
       "      <th>eess</th>\n",
       "      <th>cod_unico</th>\n",
       "      <th>idcita</th>\n",
       "      <th>lote</th>\n",
       "      <th>pagina</th>\n",
       "      <th>registro</th>\n",
       "      <th>cond_eess</th>\n",
       "      <th>...</th>\n",
       "      <th>servicio</th>\n",
       "      <th>rhtipodoc</th>\n",
       "      <th>rhnumdoc</th>\n",
       "      <th>personal</th>\n",
       "      <th>profesion</th>\n",
       "      <th>regnumdoc</th>\n",
       "      <th>digitador</th>\n",
       "      <th>fech_reg</th>\n",
       "      <th>fech_mod</th>\n",
       "      <th>cantidad</th>\n",
       "    </tr>\n",
       "  </thead>\n",
       "  <tbody>\n",
       "    <tr>\n",
       "      <th>0</th>\n",
       "      <td>CHOTA</td>\n",
       "      <td>CHALAMARCA</td>\n",
       "      <td>NUCLEO CHALAMARCA</td>\n",
       "      <td>CHALAMARCA</td>\n",
       "      <td>4718</td>\n",
       "      <td>1241311300</td>\n",
       "      <td>G11</td>\n",
       "      <td>1</td>\n",
       "      <td>1</td>\n",
       "      <td>R</td>\n",
       "      <td>...</td>\n",
       "      <td>MEDICINA GENERAL</td>\n",
       "      <td>DNI</td>\n",
       "      <td>73755296</td>\n",
       "      <td>KATERINE ALEJANDRA SANCHEZ BRIONES</td>\n",
       "      <td>MEDICO GENERAL</td>\n",
       "      <td>45771417</td>\n",
       "      <td>DAVID CHUQUIMANGO CERCADO</td>\n",
       "      <td>2025-07-02 12:21:12</td>\n",
       "      <td>-  -     :  :</td>\n",
       "      <td>1</td>\n",
       "    </tr>\n",
       "    <tr>\n",
       "      <th>1</th>\n",
       "      <td>CHOTA</td>\n",
       "      <td>CHALAMARCA</td>\n",
       "      <td>NUCLEO CHALAMARCA</td>\n",
       "      <td>CHALAMARCA</td>\n",
       "      <td>4718</td>\n",
       "      <td>1241311300</td>\n",
       "      <td>G11</td>\n",
       "      <td>1</td>\n",
       "      <td>1</td>\n",
       "      <td>R</td>\n",
       "      <td>...</td>\n",
       "      <td>MEDICINA GENERAL</td>\n",
       "      <td>DNI</td>\n",
       "      <td>73755296</td>\n",
       "      <td>KATERINE ALEJANDRA SANCHEZ BRIONES</td>\n",
       "      <td>MEDICO GENERAL</td>\n",
       "      <td>45771417</td>\n",
       "      <td>DAVID CHUQUIMANGO CERCADO</td>\n",
       "      <td>2025-07-02 12:21:12</td>\n",
       "      <td>-  -     :  :</td>\n",
       "      <td>1</td>\n",
       "    </tr>\n",
       "    <tr>\n",
       "      <th>2</th>\n",
       "      <td>CHOTA</td>\n",
       "      <td>CHALAMARCA</td>\n",
       "      <td>NUCLEO CHALAMARCA</td>\n",
       "      <td>CHALAMARCA</td>\n",
       "      <td>4718</td>\n",
       "      <td>1241311300</td>\n",
       "      <td>G11</td>\n",
       "      <td>1</td>\n",
       "      <td>1</td>\n",
       "      <td>R</td>\n",
       "      <td>...</td>\n",
       "      <td>MEDICINA GENERAL</td>\n",
       "      <td>DNI</td>\n",
       "      <td>73755296</td>\n",
       "      <td>KATERINE ALEJANDRA SANCHEZ BRIONES</td>\n",
       "      <td>MEDICO GENERAL</td>\n",
       "      <td>45771417</td>\n",
       "      <td>DAVID CHUQUIMANGO CERCADO</td>\n",
       "      <td>2025-07-02 12:21:12</td>\n",
       "      <td>-  -     :  :</td>\n",
       "      <td>1</td>\n",
       "    </tr>\n",
       "    <tr>\n",
       "      <th>3</th>\n",
       "      <td>CHOTA</td>\n",
       "      <td>CHALAMARCA</td>\n",
       "      <td>NUCLEO CHALAMARCA</td>\n",
       "      <td>CHALAMARCA</td>\n",
       "      <td>4718</td>\n",
       "      <td>1241311300</td>\n",
       "      <td>G11</td>\n",
       "      <td>1</td>\n",
       "      <td>1</td>\n",
       "      <td>R</td>\n",
       "      <td>...</td>\n",
       "      <td>MEDICINA GENERAL</td>\n",
       "      <td>DNI</td>\n",
       "      <td>73755296</td>\n",
       "      <td>KATERINE ALEJANDRA SANCHEZ BRIONES</td>\n",
       "      <td>MEDICO GENERAL</td>\n",
       "      <td>45771417</td>\n",
       "      <td>DAVID CHUQUIMANGO CERCADO</td>\n",
       "      <td>2025-07-02 12:21:12</td>\n",
       "      <td>-  -     :  :</td>\n",
       "      <td>1</td>\n",
       "    </tr>\n",
       "    <tr>\n",
       "      <th>4</th>\n",
       "      <td>CHOTA</td>\n",
       "      <td>CHALAMARCA</td>\n",
       "      <td>NUCLEO CHALAMARCA</td>\n",
       "      <td>CHALAMARCA</td>\n",
       "      <td>4718</td>\n",
       "      <td>1241311300</td>\n",
       "      <td>G11</td>\n",
       "      <td>1</td>\n",
       "      <td>1</td>\n",
       "      <td>R</td>\n",
       "      <td>...</td>\n",
       "      <td>MEDICINA GENERAL</td>\n",
       "      <td>DNI</td>\n",
       "      <td>73755296</td>\n",
       "      <td>KATERINE ALEJANDRA SANCHEZ BRIONES</td>\n",
       "      <td>MEDICO GENERAL</td>\n",
       "      <td>45771417</td>\n",
       "      <td>DAVID CHUQUIMANGO CERCADO</td>\n",
       "      <td>2025-07-02 12:21:12</td>\n",
       "      <td>-  -     :  :</td>\n",
       "      <td>1</td>\n",
       "    </tr>\n",
       "  </tbody>\n",
       "</table>\n",
       "<p>5 rows × 53 columns</p>\n",
       "</div>"
      ],
      "text/plain": [
       "     red    microred             nucleo        eess  cod_unico      idcita  \\\n",
       "0  CHOTA  CHALAMARCA  NUCLEO CHALAMARCA  CHALAMARCA       4718  1241311300   \n",
       "1  CHOTA  CHALAMARCA  NUCLEO CHALAMARCA  CHALAMARCA       4718  1241311300   \n",
       "2  CHOTA  CHALAMARCA  NUCLEO CHALAMARCA  CHALAMARCA       4718  1241311300   \n",
       "3  CHOTA  CHALAMARCA  NUCLEO CHALAMARCA  CHALAMARCA       4718  1241311300   \n",
       "4  CHOTA  CHALAMARCA  NUCLEO CHALAMARCA  CHALAMARCA       4718  1241311300   \n",
       "\n",
       "  lote  pagina  registro cond_eess  ...          servicio rhtipodoc  rhnumdoc  \\\n",
       "0  G11       1         1         R  ...  MEDICINA GENERAL       DNI  73755296   \n",
       "1  G11       1         1         R  ...  MEDICINA GENERAL       DNI  73755296   \n",
       "2  G11       1         1         R  ...  MEDICINA GENERAL       DNI  73755296   \n",
       "3  G11       1         1         R  ...  MEDICINA GENERAL       DNI  73755296   \n",
       "4  G11       1         1         R  ...  MEDICINA GENERAL       DNI  73755296   \n",
       "\n",
       "                             personal       profesion regnumdoc  \\\n",
       "0  KATERINE ALEJANDRA SANCHEZ BRIONES  MEDICO GENERAL  45771417   \n",
       "1  KATERINE ALEJANDRA SANCHEZ BRIONES  MEDICO GENERAL  45771417   \n",
       "2  KATERINE ALEJANDRA SANCHEZ BRIONES  MEDICO GENERAL  45771417   \n",
       "3  KATERINE ALEJANDRA SANCHEZ BRIONES  MEDICO GENERAL  45771417   \n",
       "4  KATERINE ALEJANDRA SANCHEZ BRIONES  MEDICO GENERAL  45771417   \n",
       "\n",
       "                   digitador            fech_reg       fech_mod cantidad  \n",
       "0  DAVID CHUQUIMANGO CERCADO 2025-07-02 12:21:12  -  -     :  :        1  \n",
       "1  DAVID CHUQUIMANGO CERCADO 2025-07-02 12:21:12  -  -     :  :        1  \n",
       "2  DAVID CHUQUIMANGO CERCADO 2025-07-02 12:21:12  -  -     :  :        1  \n",
       "3  DAVID CHUQUIMANGO CERCADO 2025-07-02 12:21:12  -  -     :  :        1  \n",
       "4  DAVID CHUQUIMANGO CERCADO 2025-07-02 12:21:12  -  -     :  :        1  \n",
       "\n",
       "[5 rows x 53 columns]"
      ]
     },
     "execution_count": 55,
     "metadata": {},
     "output_type": "execute_result"
    }
   ],
   "source": [
    "df.head()"
   ]
  },
  {
   "cell_type": "code",
   "execution_count": null,
   "id": "5c807537",
   "metadata": {},
   "outputs": [
    {
     "data": {
      "application/vnd.microsoft.datawrangler.viewer.v0+json": {
       "columns": [
        {
         "name": "index",
         "rawType": "int64",
         "type": "integer"
        },
        {
         "name": "eess",
         "rawType": "object",
         "type": "string"
        },
        {
         "name": "cod_unico",
         "rawType": "int64",
         "type": "integer"
        }
       ],
       "ref": "2bf25197-000d-48a3-947d-1a48bfb48447",
       "rows": [
        [
         "1",
         "CHALAMARCA",
         "4545"
        ],
        [
         "7",
         "LA COLPA",
         "1894"
        ],
        [
         "5",
         "EL VERDE",
         "1845"
        ],
        [
         "6",
         "HUAYRASITANA",
         "1513"
        ],
        [
         "9",
         "MASINTRANCA",
         "1503"
        ],
        [
         "12",
         "NUMBRAL",
         "1380"
        ],
        [
         "2",
         "CONGA EL VERDE",
         "1192"
        ],
        [
         "10",
         "NOGAL",
         "1052"
        ],
        [
         "13",
         "ROSASPAMPA",
         "825"
        ],
        [
         "4",
         "EL NARANJO (CHALAMARCA)",
         "786"
        ]
       ],
       "shape": {
        "columns": 2,
        "rows": 10
       }
      },
      "text/html": [
       "<div>\n",
       "<style scoped>\n",
       "    .dataframe tbody tr th:only-of-type {\n",
       "        vertical-align: middle;\n",
       "    }\n",
       "\n",
       "    .dataframe tbody tr th {\n",
       "        vertical-align: top;\n",
       "    }\n",
       "\n",
       "    .dataframe thead th {\n",
       "        text-align: right;\n",
       "    }\n",
       "</style>\n",
       "<table border=\"1\" class=\"dataframe\">\n",
       "  <thead>\n",
       "    <tr style=\"text-align: right;\">\n",
       "      <th></th>\n",
       "      <th>eess</th>\n",
       "      <th>cod_unico</th>\n",
       "    </tr>\n",
       "  </thead>\n",
       "  <tbody>\n",
       "    <tr>\n",
       "      <th>1</th>\n",
       "      <td>CHALAMARCA</td>\n",
       "      <td>4545</td>\n",
       "    </tr>\n",
       "    <tr>\n",
       "      <th>7</th>\n",
       "      <td>LA COLPA</td>\n",
       "      <td>1894</td>\n",
       "    </tr>\n",
       "    <tr>\n",
       "      <th>5</th>\n",
       "      <td>EL VERDE</td>\n",
       "      <td>1845</td>\n",
       "    </tr>\n",
       "    <tr>\n",
       "      <th>6</th>\n",
       "      <td>HUAYRASITANA</td>\n",
       "      <td>1513</td>\n",
       "    </tr>\n",
       "    <tr>\n",
       "      <th>9</th>\n",
       "      <td>MASINTRANCA</td>\n",
       "      <td>1503</td>\n",
       "    </tr>\n",
       "    <tr>\n",
       "      <th>12</th>\n",
       "      <td>NUMBRAL</td>\n",
       "      <td>1380</td>\n",
       "    </tr>\n",
       "    <tr>\n",
       "      <th>2</th>\n",
       "      <td>CONGA EL VERDE</td>\n",
       "      <td>1192</td>\n",
       "    </tr>\n",
       "    <tr>\n",
       "      <th>10</th>\n",
       "      <td>NOGAL</td>\n",
       "      <td>1052</td>\n",
       "    </tr>\n",
       "    <tr>\n",
       "      <th>13</th>\n",
       "      <td>ROSASPAMPA</td>\n",
       "      <td>825</td>\n",
       "    </tr>\n",
       "    <tr>\n",
       "      <th>4</th>\n",
       "      <td>EL NARANJO (CHALAMARCA)</td>\n",
       "      <td>786</td>\n",
       "    </tr>\n",
       "  </tbody>\n",
       "</table>\n",
       "</div>"
      ],
      "text/plain": [
       "                       eess  cod_unico\n",
       "1                CHALAMARCA       4545\n",
       "7                  LA COLPA       1894\n",
       "5                  EL VERDE       1845\n",
       "6              HUAYRASITANA       1513\n",
       "9               MASINTRANCA       1503\n",
       "12                  NUMBRAL       1380\n",
       "2            CONGA EL VERDE       1192\n",
       "10                    NOGAL       1052\n",
       "13               ROSASPAMPA        825\n",
       "4   EL NARANJO (CHALAMARCA)        786"
      ]
     },
     "execution_count": 74,
     "metadata": {},
     "output_type": "execute_result"
    }
   ],
   "source": [
    "# pivot table del numero de eess y cod_unico\n",
    "pivot_table = df.pivot_table(index='eess', \n",
    "                             values='cod_unico', \n",
    "                             aggfunc='count').reset_index().sort_values(by='cod_unico', \n",
    "                                                                        ascending=False)\n",
    "pivot_table[['eess', 'cod_unico']].head(10)"
   ]
  },
  {
   "cell_type": "code",
   "execution_count": 62,
   "id": "04184ceb",
   "metadata": {},
   "outputs": [
    {
     "data": {
      "application/vnd.microsoft.datawrangler.viewer.v0+json": {
       "columns": [
        {
         "name": "eess",
         "rawType": "object",
         "type": "string"
        },
        {
         "name": "count",
         "rawType": "int64",
         "type": "integer"
        }
       ],
       "ref": "f6a65637-4456-4ddd-881a-5a563684bf7b",
       "rows": [
        [
         "CHALAMARCA",
         "167"
        ],
        [
         "MASINTRANCA",
         "74"
        ],
        [
         "LA COLPA",
         "67"
        ],
        [
         "ROSASPAMPA",
         "62"
        ],
        [
         "HUAYRASITANA",
         "62"
        ],
        [
         "CONGA EL VERDE",
         "55"
        ],
        [
         "BELLANDINA",
         "51"
        ],
        [
         "NUMBRAL",
         "51"
        ],
        [
         "EL VERDE",
         "50"
        ],
        [
         "EL NARANJO (CHALAMARCA)",
         "50"
        ],
        [
         "NOGAL",
         "41"
        ],
        [
         "LUCMAR",
         "30"
        ],
        [
         "EL MIRADOR",
         "24"
        ],
        [
         "NUEVO SAN JUAN",
         "10"
        ]
       ],
       "shape": {
        "columns": 1,
        "rows": 14
       }
      },
      "text/plain": [
       "eess\n",
       "CHALAMARCA                 167\n",
       "MASINTRANCA                 74\n",
       "LA COLPA                    67\n",
       "ROSASPAMPA                  62\n",
       "HUAYRASITANA                62\n",
       "CONGA EL VERDE              55\n",
       "BELLANDINA                  51\n",
       "NUMBRAL                     51\n",
       "EL VERDE                    50\n",
       "EL NARANJO (CHALAMARCA)     50\n",
       "NOGAL                       41\n",
       "LUCMAR                      30\n",
       "EL MIRADOR                  24\n",
       "NUEVO SAN JUAN              10\n",
       "Name: count, dtype: int64"
      ]
     },
     "execution_count": 62,
     "metadata": {},
     "output_type": "execute_result"
    }
   ],
   "source": [
    "df['codigo'] = df['codigo'].astype(str)\n",
    "\n",
    "df.query(\"codigo == '99801'\")['eess'].value_counts()"
   ]
  },
  {
   "cell_type": "code",
   "execution_count": 63,
   "id": "042e40cd",
   "metadata": {},
   "outputs": [
    {
     "name": "stdout",
     "output_type": "stream",
     "text": [
      "Inicio de plan: 794\n",
      "      Fin de plan: 18126\n"
     ]
    }
   ],
   "source": [
    "start_plan_c = '99801'\n",
    "conteo_am = 0\n",
    "conteo_fam = 0\n",
    "\n",
    "for value in df['codigo']:\n",
    "    if value == start_plan_c:\n",
    "        conteo_am += 1\n",
    "    else:\n",
    "        conteo_fam += 1\n",
    "\n",
    "print(f'''Inicio de plan: {conteo_am}\n",
    "      Fin de plan: {conteo_fam}''')\n"
   ]
  }
 ],
 "metadata": {
  "kernelspec": {
   "display_name": "centro_salud_QC",
   "language": "python",
   "name": "python3"
  },
  "language_info": {
   "codemirror_mode": {
    "name": "ipython",
    "version": 3
   },
   "file_extension": ".py",
   "mimetype": "text/x-python",
   "name": "python",
   "nbconvert_exporter": "python",
   "pygments_lexer": "ipython3",
   "version": "3.13.5"
  }
 },
 "nbformat": 4,
 "nbformat_minor": 5
}
